{
 "cells": [
  {
   "cell_type": "markdown",
   "metadata": {},
   "source": [
    "# Assignment 2 : Implementing a Bitcoin Network using Bitcoin RPC"
   ]
  },
  {
   "cell_type": "markdown",
   "metadata": {},
   "source": [
    "Firstly, the bitcoin core software is installed in the linux environment using Docker."
   ]
  },
  {
   "cell_type": "markdown",
   "metadata": {},
   "source": [
    "Then, start the Bitcoin daemon by running the command."
   ]
  },
  {
   "cell_type": "code",
   "execution_count": 1,
   "metadata": {
    "tags": []
   },
   "outputs": [
    {
     "name": "stdout",
     "output_type": "stream",
     "text": [
      "Bitcoin Core starting\r\n"
     ]
    }
   ],
   "source": [
    "!bitcoind -regtest -daemon"
   ]
  },
  {
   "cell_type": "markdown",
   "metadata": {},
   "source": [
    "The flag -daemon allows bitcoind to run in the background as daemon and accept commands.\n",
    "\n",
    "The flag -regtest allows bitcoind to run in test network.\n",
    "\n",
    "Once, the Bitcoin daemon is running, we can interact with it using the Bitcoin RPC.\n",
    "\n",
    "To do this, we need to enable Bitcoin RPC interface and set a username and password for authentication.\n",
    "\n",
    "Check if there is file bitcoin.conf in the Bitcoin directory in the system, if yes, replace existing configuration with following. If not, create one, and add following:\n",
    "\n",
    "```\n",
    "rpcuser=yourusername\n",
    "rpcpassword=yourpassword\n",
    "server=1\n",
    "```\n",
    "\n",
    "For this docker image, the default user is `bitcoin` and for security reasons, cannot be changed.\n",
    "___\n",
    "\n",
    "After configuring your authentication credientials, do  following:"
   ]
  },
  {
   "cell_type": "markdown",
   "metadata": {},
   "source": [
    "### bitcoin-cli commands\n",
    "\n",
    "1. Create the version of bitcoin core"
   ]
  },
  {
   "cell_type": "code",
   "execution_count": 2,
   "metadata": {},
   "outputs": [
    {
     "name": "stdout",
     "output_type": "stream",
     "text": [
      "Bitcoin Core RPC client version v23.0.0\r\n",
      "Copyright (C) 2009-2022 The Bitcoin Core developers\r\n",
      "\r\n",
      "Please contribute if you find Bitcoin Core useful. Visit\r\n",
      "<https://bitcoincore.org/> for further information about the software.\r\n",
      "The source code is available from <https://github.com/bitcoin/bitcoin>.\r\n",
      "\r\n",
      "This is experimental software.\r\n",
      "Distributed under the MIT software license, see the accompanying file COPYING\r\n",
      "or <https://opensource.org/licenses/MIT>\r\n"
     ]
    }
   ],
   "source": [
    "!bitcoin-cli --version"
   ]
  },
  {
   "cell_type": "markdown",
   "metadata": {},
   "source": [
    "2. Create a new wallet"
   ]
  },
  {
   "cell_type": "code",
   "execution_count": 6,
   "metadata": {},
   "outputs": [],
   "source": [
    "WALLET = \"ramraj\""
   ]
  },
  {
   "cell_type": "code",
   "execution_count": 7,
   "metadata": {},
   "outputs": [
    {
     "name": "stdout",
     "output_type": "stream",
     "text": [
      "{\r\n",
      "  \"name\": \"ramraj\",\r\n",
      "  \"warning\": \"\"\r\n",
      "}\r\n"
     ]
    }
   ],
   "source": [
    "!bitcoin-cli -regtest createwallet $WALLET false"
   ]
  },
  {
   "cell_type": "markdown",
   "metadata": {},
   "source": [
    "3. Get the balance of the wallet"
   ]
  },
  {
   "cell_type": "code",
   "execution_count": 8,
   "metadata": {},
   "outputs": [
    {
     "name": "stdout",
     "output_type": "stream",
     "text": [
      "0.00000000\r\n"
     ]
    }
   ],
   "source": [
    "!bitcoin-cli -regtest -rpcwallet=$WALLET getbalance"
   ]
  },
  {
   "cell_type": "markdown",
   "metadata": {},
   "source": [
    "4. Start mining"
   ]
  },
  {
   "cell_type": "code",
   "execution_count": 16,
   "metadata": {},
   "outputs": [
    {
     "name": "stdout",
     "output_type": "stream",
     "text": [
      "{\r\n",
      "  \"address\": \"bcrt1qqjzq6guucyrt0uq7jrzt0q9mamqyzwh0vhxcs2\",\r\n",
      "  \"blocks\": [\r\n",
      "    \"449d12bc9b9d2f57a5509ed6dae1a43b43acfee3868dc16640e288be3d14b318\",\r\n",
      "    \"0c43379c3055fbde2129af40430cbbd50deedefedee04eb8a9644d9cee01e2d0\",\r\n",
      "    \"40eb28e94eceb73e3a70910b494dcb32767c71c71b2c22511785a83b89ea3d85\",\r\n",
      "    \"6f01308a160bad068a47c9212764430b45e1bf59087442c1acad30c9217589e3\",\r\n",
      "    \"78288361318e85867704932f110ba3838e5ff98c585f158653331797eed8ae22\",\r\n",
      "    \"74d07ddd8af4d4363b7412803952acf1bb56089b3715d40596bd56f54be767d7\",\r\n",
      "    \"56d73b87e4aaae0ef7e3d02b767c16fe7c42fb8cfdf221f03db3900ded740bb2\",\r\n",
      "    \"026109fa7c61180b3099374d7d2cf317c9c39591bdde0f0101a47fbb130f9d4a\",\r\n",
      "    \"62f02697bcef297486983381dfe40e4fb98299b2f2bb011c3d95da8d1f536113\",\r\n",
      "    \"3d98f1e9e83ee26c08ba5461b375df5a8ce250f6d09cdd950d61b8375825e8e0\",\r\n",
      "    \"2f07c561697396599b9c0ae44a6cb3a2283a22d51d6704ee73d241edf9ffffb0\",\r\n",
      "    \"175dd7ca7bfb87f90744e4df2a556803ddd691d826bf5b51ae7ce73c6146e85b\",\r\n",
      "    \"364b3d89a6ef4f66c1f9e662a8d2345255ff898e2974215dda9266006e583cfb\",\r\n",
      "    \"19f32448dafe234e6554231096ab550dc629750e2640310a55e505e4547d8c16\",\r\n",
      "    \"34e9999d897d20916a0ef83b3b0dce25b689a4a11788941f5348024bc6b97b86\",\r\n",
      "    \"3399588cfc3c62cdc1a99e49a45b8c4530d1ffab3809dcfed9e6218c2fc85ce8\",\r\n",
      "    \"5be066406844484ec97d6fed40fb4a1f01439522b7d88457f49495d7ba3e19a7\",\r\n",
      "    \"30507baf661aa1166aa944ea65ad05fd94eedada199481632c67fc2d0463c20d\",\r\n",
      "    \"0ea28d9bebbbf79752cd6b4acfa5130df07c71778e8e9a9f533e59a0663bb568\",\r\n",
      "    \"1b2de2e40caf328b8ea5b16bf711170ceb41ddc128d662b378093471a387cf5f\",\r\n",
      "    \"3177083122fa99e4e90511a80ed172b9d0c4446003e663db9069af799ca16c69\",\r\n",
      "    \"32d81e64d8cbfd26bc7f8b05a29f74eaf8823d725148664cdb1c4479e229f828\",\r\n",
      "    \"2e9780a8dd274a91227f416e135c52b27ca9a6773808556a4446a04edf1cbd93\",\r\n",
      "    \"48a4c75e3b27761da710fa55779fe7d3322d8e18ff8353339c5636d477f5527c\",\r\n",
      "    \"59b146bf2055e8ff939cb91ed1fe3fd9eee1fd1940462b4822f39ab5d40e28c8\",\r\n",
      "    \"1dc79e94fc0499d7341b543af8c5a596d9614c0bcc2a46737ac82db7eab82b07\",\r\n",
      "    \"1e7135ea0dd9d1ce285fe8ed031670a481be84b3dd4aa0ca6fe6460a50884ebf\",\r\n",
      "    \"24991be3d35849a4e686d0281423e92953512501f8aebce25b540620600958f2\",\r\n",
      "    \"4e063391003bedb91aad12c187344fb37ce411e5c3279fa9462c923b95e3375a\",\r\n",
      "    \"1490ae0097c3f34d68b83014f4e6e4efd7e721ca35d2ff483bc9f56c8cda5c2e\",\r\n",
      "    \"115962d9814972529a111d0fe1fa904d8f688857fd572bba2b7fcd915bdbe7c4\",\r\n",
      "    \"5f01c01d237ed951a085945c406f71289d245b38b3e4e0c9dcab579d4a833231\",\r\n",
      "    \"1131b3954329803e8a28530d1046615b0956651d8d721afce85d6766af8bea24\",\r\n",
      "    \"3243fcf4e8329031a9ef392f406134b81f92503cb7b03c37307caf58338b8ab6\",\r\n",
      "    \"2b1532b4eaaaab4bd1a4c767d9372f09fd521263d1232cd4dc0e04dd76a3f78a\",\r\n",
      "    \"44c564b463a2cd2af0de22d89b6c4fa9b468e4bcb9554f98ee8acc83176ede8e\",\r\n",
      "    \"46854d169a65a0e6364308578e1c6119808ff66f87b3e934c5dfefb685c8d7af\",\r\n",
      "    \"6d21bcd6237b84c4fbc40cf2902463da5bc91521f040a7f8120a75ef069f4f90\",\r\n",
      "    \"73a3c3d8682ef03dfde7b12f7dd53d6468406fbd94e793f561dc61e2a67b3529\",\r\n",
      "    \"33420762d023a59fa437ab319b8380a0d27d34c16e788ecbc2f3195c0bbe2db7\",\r\n",
      "    \"6213b32d40180221583977e172a69ffe82f81ce8b083f80b18d9018b815b8818\",\r\n",
      "    \"1129e61a2d8ec03f7ba01d6bad34ea838a996a847d643535916d1d8088202839\",\r\n",
      "    \"59218db160ea3ae0cc2eeb988709e21fd3b0f4f1f4d8241d09a9577f54115cc0\",\r\n",
      "    \"36c54d41375cda40c6cb224eb4603a1c324dcb791899ab7a85dc04f8c284cda5\",\r\n",
      "    \"68fecba75855a6dc79f6149672fae3718b1d679a112961a2de060c43f6edbb7e\",\r\n",
      "    \"4ac22544524284c0a2e079a820f8da67e1e00ed9fa78eda98cda1afb39d364a4\",\r\n",
      "    \"64da907b4794ffdd32be9cbb892172b70f18dac4c9269c434ef69df1ef1f11ac\",\r\n",
      "    \"2d9d542c058304a83a4ef7f04f74d8f24b730d254e750a14fad420aa9f1c92fd\",\r\n",
      "    \"054f03fb84dca531c9f9a6b0ca5bf235c89f4a2a28f69ccace7e52fe3bb17c12\",\r\n",
      "    \"7319b45b97a9e15378e0660ccfd48130723d22e9150c1318e9d2060f9d6f155c\",\r\n",
      "    \"298ce758af97a7560276edbcfb28957454dac7195b6b3ac5df2de516f8c4782f\",\r\n",
      "    \"3acd17a57359a3d13e527de53474fa674db3fb668fa8d3700e505350b2098c34\",\r\n",
      "    \"169a5b20b96b5f02b1b10ac9d193eaf11860d57ae0ee674ab36b6a44e2001b45\",\r\n",
      "    \"7e6012cb3bc87dbea52d8a47d34e630d02573eed7691a39f11c72ec8113f4f7f\",\r\n",
      "    \"6b4ef06dfa9a14af9946b7f5de0554375a9af2325e274ac23862d99ffcb66cfc\",\r\n",
      "    \"3acd80e2ad7e9974f765ea82da2d0548a48df593f3bf1db74dd7d1961ea6ed5e\",\r\n",
      "    \"5d6ef1f079d3e546742a7668df7720c1c2f4858bbc2c688a0326ea0d6ccd9416\",\r\n",
      "    \"3dcc34c856a8e46839d593ef2785df7e3c2cd8247ec1a2a9ecef322805d0e53b\",\r\n",
      "    \"257316384adf668f645c5ba9c7b52740abadc8c37d157f3dd7d42b2fef548667\",\r\n",
      "    \"252b8543bd33136a2aa5151d05762aec5692deb4e5e0dc0239f6b417cd1e13e3\",\r\n",
      "    \"2986d17b39e9f5777ae693ca7052da9da45f026ff012df3b1bd9524b504fc848\",\r\n",
      "    \"3ff1e15dff5ea3e6b21d531550f8f6add49f03abb8fb22cc0c189ee5b4696eab\",\r\n",
      "    \"16e6b073dbe66ceff870b5f578a10e3021d80614bb96f5861fca5d8b32802e28\",\r\n",
      "    \"21cd80e12eb8cdaf7e9e99ce06eeec4c4d15acbe0cbbb66a7e8ec3aec4913a90\",\r\n",
      "    \"2ebd8b77a7fdc029018c6293924bfe801e3ee3a11f3f2f89c55941d1b4104243\",\r\n",
      "    \"5a85670eacba8e7e46dc166051d72a701b1634727dff39154adbc66979fe3e2e\",\r\n",
      "    \"034bf1346ac8ba01343a3a7aeb3cbaeabbe0df0d5f4018666bbc0e71f2216ca4\",\r\n",
      "    \"4d416c0288ca4f985ae83f01e1986928f84503e80e6c74a163e25a3bba7fe7a1\",\r\n",
      "    \"01231acd46bd06de3e472873884e1d137efa1284f462d3aec84ad069bdf3f850\",\r\n",
      "    \"1590fe13c60810be710b000dc6cba2a8b8d8fefc0dbed3262d13c8eb536ce08e\",\r\n",
      "    \"24abd1feffaca09d964ac1300b5e209e212d5edf95d855b241520e91be393774\",\r\n",
      "    \"2466e90a1f64ebb292ba3a7129be12db9eaf7803b84df715b32ba5c00c434116\",\r\n",
      "    \"30032a5eeba68de5fd79889b7bbbcfba013545b8e1a424116c2c0ce49fd48238\",\r\n",
      "    \"6c82eaa50e98d04186cb5f7f0cb0ad35e5ecea465f3e9fbc18d81261e1da71a9\",\r\n",
      "    \"7b9ef3eedc442af72fb74dfe26f177f3b34a567d530de343bc989b4cbb205324\",\r\n",
      "    \"3d042f2f114cdb297933f46cb1c4471c60bc6858092e712a63e377369381e69b\",\r\n",
      "    \"6a0d7b469f70ba4e0df4fda249dcd167e99e494b3a822cba582b8b2a0e90c64a\",\r\n",
      "    \"174a5887a54d1ccd1f6c6c3e08f5094ddde1aec8dc5eb8808726dae2dce8f33a\",\r\n",
      "    \"4f6200f88d700a3f1d9efafe2d4e959d914f0266d555081b82e8573bc9c98b33\",\r\n",
      "    \"7690073a8ac41dc970fc42bfc4a0c9d6e0bdc7925e6d748fa64371e96c4a0bac\",\r\n",
      "    \"1e1cca03fb74120c78f0c5867ad11c9bb1656efa8eab0f6765d503199e6bddd0\",\r\n",
      "    \"556d6d070bcc1315e1fa517e33ebedc40fc1f29ab35659c379692c3d0b888aa5\",\r\n",
      "    \"5e476fd6ab936c33d14e45e96f642d1077f0ca16e0ad88aeb26a9121d851e0cd\",\r\n",
      "    \"094ef21b1f1964f6aec7495c84cd20138731c3e5f6e128648d0d68d8f7ce1b2b\",\r\n",
      "    \"669f63fd4478797ae309232a2e998821712aa01bb2829c0d7e5f703aa40e125c\",\r\n",
      "    \"710cc5de8688d6463234c4738327245dbfae4796b28909c500b981cb43f62361\",\r\n",
      "    \"355cf58e2ede29e626e4d25918b686981fb1f680edac3140afe9ac9503ee6c1f\",\r\n",
      "    \"5f7bf084423b15e904d6fa4cb938f603b665a5daf2ad6bb3cbcc7fbef73b314a\",\r\n",
      "    \"702bfeb315d802d3f5911aec986557309f452eabaf943d7a5dc7b65a5404ad0b\",\r\n",
      "    \"44adc001dc77fed764733f6958c355ca7b62089ec05b1f6b72b278e4c4539989\",\r\n",
      "    \"23c8f7108776ed491bb277c518d5824b775baeaf3c5d3eb8e62b7365616849a5\",\r\n",
      "    \"3d49ad974e3fb57bb0463807373223327834b77b8c6839b27ca312d11122ae3f\",\r\n",
      "    \"75ed3ee44f2b12eb7c303147395c899170a5cdbe20672f581a4743a1dcc62b5d\",\r\n",
      "    \"620f868bcac22500326d957f1188f88c8a8ab4038cf0b16dbd5edbbb220dc04a\",\r\n",
      "    \"731ec67bed83c436ff323de81baa9445ee369ed9b4ac9931767ae2ccbda11da8\",\r\n",
      "    \"6af74fd7b3e401203838b3bee997eb37d0b7060d16a646ef2e09cc6508a25fcb\",\r\n",
      "    \"15e1186b25fa9defaf9180745aa0ab09a8e4e46d38b0a3427cbcf4143c782c49\",\r\n",
      "    \"51df98cc7f288601912793b2650a700b4d96b9b2cc863f9883956fb55368f975\",\r\n",
      "    \"3dd5e13cbb3371ac857e8fd59f39b29d10d28e4fdc2f279cdb653bedb58b56bd\",\r\n",
      "    \"144ac9bc5e5b504966dfbd12f8438f2ed9705374ccaf695c99c6beb8d6d3040c\"\r\n",
      "  ]\r\n",
      "}\r\n"
     ]
    }
   ],
   "source": [
    "!bitcoin-cli -regtest -rpcwallet=$WALLET -generate 100"
   ]
  },
  {
   "cell_type": "code",
   "execution_count": 17,
   "metadata": {},
   "outputs": [
    {
     "name": "stdout",
     "output_type": "stream",
     "text": [
      "3050.00000000\r\n"
     ]
    }
   ],
   "source": [
    "!bitcoin-cli -regtest -rpcwallet=$WALLET getbalance"
   ]
  },
  {
   "cell_type": "markdown",
   "metadata": {},
   "source": [
    "5. Create a new transaction \"Send to some address\"."
   ]
  },
  {
   "cell_type": "code",
   "execution_count": 23,
   "metadata": {},
   "outputs": [
    {
     "name": "stdout",
     "output_type": "stream",
     "text": [
      "39c9316b0956b883503571d2c07528e5aded80a775e4e2c24f62c5dff4751b97\r\n"
     ]
    }
   ],
   "source": [
    "# Send 100 BTC with a fee rate of 1.1 sat/vB, subtract fee from amount, \n",
    "# BIP125-replaceable, using positional arguments\n",
    "\n",
    "!bitcoin-cli -regtest -rpcwallet=$WALLET \\\n",
    "sendtoaddress \"2N3oefVeg6stiTb5Kh3ozCSkaqmx91FDbsm\" 100 \\\n",
    "\"test_transaction\" \"test_address\" true true null \"unset\" null 1.1"
   ]
  },
  {
   "cell_type": "code",
   "execution_count": 24,
   "metadata": {},
   "outputs": [
    {
     "name": "stdout",
     "output_type": "stream",
     "text": [
      "2950.00000000\r\n"
     ]
    }
   ],
   "source": [
    "# Check balance\n",
    "!bitcoin-cli -regtest -rpcwallet=$WALLET getbalance"
   ]
  },
  {
   "cell_type": "markdown",
   "metadata": {},
   "source": [
    "___\n",
    "\n",
    "## Summary of findings"
   ]
  },
  {
   "cell_type": "markdown",
   "metadata": {},
   "source": [
    "Doing this assignment, I was able to implement a Bitcoin network using Bitcoin RPC. The assignment provides instructions on how to set up the Bitcoin Core software and interact with it using the Bitcoin RPC interface. It was required to create a new wallet, get the balance of the wallet, create a new transaction, and mine blocks using the bitcoin-cli command. Overall, the assignment aims to provide a practical understanding of how to use the Bitcoin RPC interface to interact with the Bitcoin network.\n",
    "\n",
    "From this assignment, I was able to learn the following:\n",
    "\n",
    "1. Using docker for installing bitcoin-core\n",
    "2. Implementing a Bitcoin Network using Bitcoin RPC\n",
    "3. Setup the test network for learning the various bitcoin-cli commands like `createwallet`, `getbalance`, `generate`and `sendtoaddress`."
   ]
  }
 ],
 "metadata": {
  "kernelspec": {
   "display_name": "Python 3 (ipykernel)",
   "language": "python",
   "name": "python3"
  },
  "language_info": {
   "codemirror_mode": {
    "name": "ipython",
    "version": 3
   },
   "file_extension": ".py",
   "mimetype": "text/x-python",
   "name": "python",
   "nbconvert_exporter": "python",
   "pygments_lexer": "ipython3",
   "version": "3.9.2"
  },
  "vscode": {
   "interpreter": {
    "hash": "24987f784c8dccf73f9cfa6e3252f4c6d678c4e80692db133e916b15e457da67"
   }
  }
 },
 "nbformat": 4,
 "nbformat_minor": 4
}
